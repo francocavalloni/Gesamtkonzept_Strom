{
 "cells": [
  {
   "cell_type": "code",
   "execution_count": 1,
   "outputs": [
    {
     "name": "stdout",
     "output_type": "stream",
     "text": [
      "Start Simulation Gesamtkonzept Strom\n",
      "Lastgang lesen und PV Eigenverbrauch berechnen\n",
      "Simulation Running\n",
      "Simulation ELKW\n",
      "Fahrdaten einlesen\n",
      "Analyse für monatliche Leistungs Limite Peak-Shaving\n",
      "Simulation WELKW\n",
      "Fahrdaten einlesen\n",
      "Analyse für monatliche Leistungs Limite Peak-Shaving\n",
      "Simulation EPKW Ladestationen\n",
      "Bilanzierung PV-Anlage\n",
      "Simulation Batteriespeicher\n",
      "Analyse für monatliche Leistungs Limite Peak-Shaving\n",
      "Simulation der Komponenten fertig!\n",
      "Excel mit Resultaten erstellen\n",
      "Diagramme erstellen\n",
      "Programm Laufzeit = 7.24 Min\n"
     ]
    }
   ],
   "source": [
    "\" Starte Programm mit Run \"\n",
    "# For reading the Input data from Excel-File choose Input_File = True\n",
    "# For reading the Input data from script \"alternative_input.py\" choose Input_File = False\n",
    "Input_File = True\n",
    "\n",
    "import time\n",
    "start_timer = time.perf_counter()\n",
    "def print_start(name):\n",
    "    print(f'Start Programm {name}')\n",
    "if __name__ == '__main__':\n",
    "    print_start('Gesamtkonzept Strom')\n",
    "\n",
    "%run ./Module/Simulation_Komponenten.ipynb\n",
    "\n",
    "end_timer = time.perf_counter()\n",
    "running_time_min = round((end_timer-start_timer)/60,2)\n",
    "print(\"Programm Laufzeit = \"+str(running_time_min)+\" Min\")\n",
    "quit()"
   ],
   "metadata": {
    "collapsed": false
   }
  }
 ],
 "metadata": {
  "kernelspec": {
   "display_name": "Python 3 (ipykernel)",
   "language": "python",
   "name": "python3"
  },
  "language_info": {
   "codemirror_mode": {
    "name": "ipython",
    "version": 3
   },
   "file_extension": ".py",
   "mimetype": "text/x-python",
   "name": "python",
   "nbconvert_exporter": "python",
   "pygments_lexer": "ipython3",
   "version": "3.10.8"
  }
 },
 "nbformat": 4,
 "nbformat_minor": 4
}
