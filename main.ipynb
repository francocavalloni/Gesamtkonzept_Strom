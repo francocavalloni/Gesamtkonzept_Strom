{
 "cells": [
  {
   "cell_type": "code",
   "execution_count": 11,
   "metadata": {},
   "outputs": [
    {
     "name": "stdout",
     "output_type": "stream",
     "text": [
      "Start Simulation Gesamtkonzept Strom\n",
      "Simulation Running\n",
      "Simulation ELKW\n",
      "Analyse für monatliche Spitze\n",
      "                     Time  kW_netzbezug  dach_süd  dach_ostwest  carport  \\\n",
      "0     2022-01-01 00:00:00    254.118331         0           0.0      0.0   \n",
      "1     2022-01-01 00:15:00    254.118331         0           0.0      0.0   \n",
      "2     2022-01-01 00:30:00    254.118331         0           0.0      0.0   \n",
      "3     2022-01-01 00:45:00    251.414944         0           0.0      0.0   \n",
      "4     2022-01-01 01:00:00    243.304785         0           0.0      0.0   \n",
      "...                   ...           ...       ...           ...      ...   \n",
      "35035 2022-12-31 22:45:00    135.169325         0           0.0      0.0   \n",
      "35036 2022-12-31 23:00:00    145.982871         0           0.0      0.0   \n",
      "35037 2022-12-31 23:15:00    137.872711         0           0.0      0.0   \n",
      "35038 2022-12-31 23:30:00    135.169325         0           0.0      0.0   \n",
      "35039 2022-12-31 23:45:00    145.982871         0           0.0      0.0   \n",
      "\n",
      "       fassade_süd  fassade_west  fassade_nord  fassade_ost  süd skal  ...  \\\n",
      "0              0.0           0.0           0.0          0.0       0.0  ...   \n",
      "1              0.0           0.0           0.0          0.0       0.0  ...   \n",
      "2              0.0           0.0           0.0          0.0       0.0  ...   \n",
      "3              0.0           0.0           0.0          0.0       0.0  ...   \n",
      "4              0.0           0.0           0.0          0.0       0.0  ...   \n",
      "...            ...           ...           ...          ...       ...  ...   \n",
      "35035          0.0           0.0           0.0          0.0       0.0  ...   \n",
      "35036          0.0           0.0           0.0          0.0       0.0  ...   \n",
      "35037          0.0           0.0           0.0          0.0       0.0  ...   \n",
      "35038          0.0           0.0           0.0          0.0       0.0  ...   \n",
      "35039          0.0           0.0           0.0          0.0       0.0  ...   \n",
      "\n",
      "       3 total_distance  3 Anzahl beladen Lupfig  ANALYSE_SPITZE       0  \\\n",
      "0                   0.0                      0.0             254  1035.0   \n",
      "1                   0.0                      0.0             254  1035.0   \n",
      "2                   0.0                      0.0             254  1035.0   \n",
      "3                   0.0                      0.0             251  1035.0   \n",
      "4                   0.0                      0.0             243  1035.0   \n",
      "...                 ...                      ...             ...     ...   \n",
      "35035               0.0                      0.0             135  1025.0   \n",
      "35036               0.0                      0.0             146  1025.0   \n",
      "35037               0.0                      0.0             138  1025.0   \n",
      "35038               0.0                      0.0             135  1025.0   \n",
      "35039               0.0                      0.0             146  1025.0   \n",
      "\n",
      "         136    272    408    544    680    816  \n",
      "0      933.3  883.8  864.0  853.2  823.5  809.1  \n",
      "1      933.3  883.8  864.0  853.2  823.5  809.1  \n",
      "2      933.3  883.8  864.0  853.2  823.5  809.1  \n",
      "3      933.3  883.8  864.0  853.2  823.5  809.1  \n",
      "4      933.3  883.8  864.0  853.2  823.5  809.1  \n",
      "...      ...    ...    ...    ...    ...    ...  \n",
      "35035  925.1  882.8  861.2  845.0  838.7  822.5  \n",
      "35036  925.1  882.8  861.2  845.0  838.7  822.5  \n",
      "35037  925.1  882.8  861.2  845.0  838.7  822.5  \n",
      "35038  925.1  882.8  861.2  845.0  838.7  822.5  \n",
      "35039  925.1  882.8  861.2  845.0  838.7  822.5  \n",
      "\n",
      "[35040 rows x 44 columns]\n",
      "Analyse für monatliche Spitze\n"
     ]
    },
    {
     "ename": "ValueError",
     "evalue": "too many values to unpack (expected 2)",
     "output_type": "error",
     "traceback": [
      "\u001B[1;31m---------------------------------------------------------------------------\u001B[0m",
      "\u001B[1;31mValueError\u001B[0m                                Traceback (most recent call last)",
      "File \u001B[1;32m~\\AppData\\Local\\Temp\\ipykernel_1420\\1613221736.py:5\u001B[0m\n\u001B[0;32m      3\u001B[0m LG_S \u001B[38;5;241m=\u001B[39m Analyse_V1\u001B[38;5;241m.\u001B[39manalyse_peaks(LG_S,Speicher,Faktor_Grenze,date_titles,title)\n\u001B[0;32m      4\u001B[0m \u001B[38;5;28mprint\u001B[39m(LG_S)\n\u001B[1;32m----> 5\u001B[0m LG_S, new_monthly_limit \u001B[38;5;241m=\u001B[39m Analyse_V1\u001B[38;5;241m.\u001B[39manalyse_peaks(LG_S,Speicher,Faktor_Grenze,date_titles,title)\n\u001B[0;32m      6\u001B[0m \u001B[38;5;66;03m#Set Dataframes\u001B[39;00m\n\u001B[0;32m      7\u001B[0m names_Bilanz_ELKW \u001B[38;5;241m=\u001B[39m [\u001B[38;5;124m\"\u001B[39m\u001B[38;5;124mSpeicherkapazität [kWh]\u001B[39m\u001B[38;5;124m\"\u001B[39m, \u001B[38;5;124m\"\u001B[39m\u001B[38;5;124mVerbrauch [kWh/km]\u001B[39m\u001B[38;5;124m\"\u001B[39m, \u001B[38;5;124m\"\u001B[39m\u001B[38;5;124mEnergiebezug Speicher [kWh/a]\u001B[39m\u001B[38;5;124m\"\u001B[39m, \u001B[38;5;124m\"\u001B[39m\u001B[38;5;124mNetzbezug [kWh/a]\u001B[39m\u001B[38;5;124m\"\u001B[39m, \u001B[38;5;124m\"\u001B[39m\u001B[38;5;124mEigenverbrauchserhöhung [kWh/a]\u001B[39m\u001B[38;5;124m\"\u001B[39m,\n\u001B[0;32m      8\u001B[0m                      \u001B[38;5;124m\"\u001B[39m\u001B[38;5;124mAuswärtsladen [kWh/a]\u001B[39m\u001B[38;5;124m\"\u001B[39m,  \u001B[38;5;124m\"\u001B[39m\u001B[38;5;124mMittagspause Verlängert um [min]\u001B[39m\u001B[38;5;124m\"\u001B[39m, \u001B[38;5;124m\"\u001B[39m\u001B[38;5;124mHäufigkeit Pause an Raststätte 30min laden\u001B[39m\u001B[38;5;124m\"\u001B[39m,\n\u001B[0;32m      9\u001B[0m                     \u001B[38;5;124m\"\u001B[39m\u001B[38;5;124mKosten Netzbezug [CHF/a]\u001B[39m\u001B[38;5;124m\"\u001B[39m,\u001B[38;5;124m\"\u001B[39m\u001B[38;5;124mKosten Laden Auswärts [CHF/a]\u001B[39m\u001B[38;5;124m\"\u001B[39m,\u001B[38;5;124m\"\u001B[39m\u001B[38;5;124mKosten Eigenverbauch [CHF/a]\u001B[39m\u001B[38;5;124m\"\u001B[39m,\n\u001B[0;32m     10\u001B[0m                      \u001B[38;5;124m\"\u001B[39m\u001B[38;5;124mSumme Energiekosten [CHF/a]\u001B[39m\u001B[38;5;124m\"\u001B[39m, \u001B[38;5;124m\"\u001B[39m\u001B[38;5;124mJahreskosten Inv + Unt [CHF/a]\u001B[39m\u001B[38;5;124m\"\u001B[39m, \u001B[38;5;124m\"\u001B[39m\u001B[38;5;124mJahreskosten Ladestation DC Inv + Unt\u001B[39m\u001B[38;5;124m\"\u001B[39m, \u001B[38;5;124m\"\u001B[39m\u001B[38;5;124mKosten total ELKW [CHF/a]\u001B[39m\u001B[38;5;124m\"\u001B[39m]\n",
      "\u001B[1;31mValueError\u001B[0m: too many values to unpack (expected 2)"
     ]
    },
    {
     "ename": "ValueError",
     "evalue": "too many values to unpack (expected 2)",
     "output_type": "error",
     "traceback": [
      "\u001B[1;31m---------------------------------------------------------------------------\u001B[0m",
      "\u001B[1;31mValueError\u001B[0m                                Traceback (most recent call last)",
      "Cell \u001B[1;32mIn[11], line 19\u001B[0m\n\u001B[0;32m     16\u001B[0m \u001B[38;5;28;01mif\u001B[39;00m \u001B[38;5;18m__name__\u001B[39m \u001B[38;5;241m==\u001B[39m \u001B[38;5;124m'\u001B[39m\u001B[38;5;124m__main__\u001B[39m\u001B[38;5;124m'\u001B[39m:\n\u001B[0;32m     17\u001B[0m     print_start(\u001B[38;5;124m'\u001B[39m\u001B[38;5;124mGesamtkonzept Strom\u001B[39m\u001B[38;5;124m'\u001B[39m)\n\u001B[1;32m---> 19\u001B[0m \u001B[43mget_ipython\u001B[49m\u001B[43m(\u001B[49m\u001B[43m)\u001B[49m\u001B[38;5;241;43m.\u001B[39;49m\u001B[43mrun_line_magic\u001B[49m\u001B[43m(\u001B[49m\u001B[38;5;124;43m'\u001B[39;49m\u001B[38;5;124;43mrun\u001B[39;49m\u001B[38;5;124;43m'\u001B[39;49m\u001B[43m,\u001B[49m\u001B[43m \u001B[49m\u001B[38;5;124;43m'\u001B[39;49m\u001B[38;5;124;43m./Module/Simulation_Komponenten.ipynb\u001B[39;49m\u001B[38;5;124;43m'\u001B[39;49m\u001B[43m)\u001B[49m\n\u001B[0;32m     21\u001B[0m end_timer \u001B[38;5;241m=\u001B[39m time\u001B[38;5;241m.\u001B[39mperf_counter()\n\u001B[0;32m     22\u001B[0m running_time_min \u001B[38;5;241m=\u001B[39m \u001B[38;5;28mround\u001B[39m((end_timer\u001B[38;5;241m-\u001B[39mstart_timer)\u001B[38;5;241m/\u001B[39m\u001B[38;5;241m60\u001B[39m,\u001B[38;5;241m2\u001B[39m)\n",
      "File \u001B[1;32m~\\OneDrive\\FHNW\\intern_SimProg\\test_simprog\\venvFH\\lib\\site-packages\\IPython\\core\\interactiveshell.py:2432\u001B[0m, in \u001B[0;36mInteractiveShell.run_line_magic\u001B[1;34m(self, magic_name, line, _stack_depth)\u001B[0m\n\u001B[0;32m   2430\u001B[0m     kwargs[\u001B[38;5;124m'\u001B[39m\u001B[38;5;124mlocal_ns\u001B[39m\u001B[38;5;124m'\u001B[39m] \u001B[38;5;241m=\u001B[39m \u001B[38;5;28mself\u001B[39m\u001B[38;5;241m.\u001B[39mget_local_scope(stack_depth)\n\u001B[0;32m   2431\u001B[0m \u001B[38;5;28;01mwith\u001B[39;00m \u001B[38;5;28mself\u001B[39m\u001B[38;5;241m.\u001B[39mbuiltin_trap:\n\u001B[1;32m-> 2432\u001B[0m     result \u001B[38;5;241m=\u001B[39m fn(\u001B[38;5;241m*\u001B[39margs, \u001B[38;5;241m*\u001B[39m\u001B[38;5;241m*\u001B[39mkwargs)\n\u001B[0;32m   2434\u001B[0m \u001B[38;5;66;03m# The code below prevents the output from being displayed\u001B[39;00m\n\u001B[0;32m   2435\u001B[0m \u001B[38;5;66;03m# when using magics with decorator @output_can_be_silenced\u001B[39;00m\n\u001B[0;32m   2436\u001B[0m \u001B[38;5;66;03m# when the last Python token in the expression is a ';'.\u001B[39;00m\n\u001B[0;32m   2437\u001B[0m \u001B[38;5;28;01mif\u001B[39;00m \u001B[38;5;28mgetattr\u001B[39m(fn, magic\u001B[38;5;241m.\u001B[39mMAGIC_OUTPUT_CAN_BE_SILENCED, \u001B[38;5;28;01mFalse\u001B[39;00m):\n",
      "File \u001B[1;32m~\\OneDrive\\FHNW\\intern_SimProg\\test_simprog\\venvFH\\lib\\site-packages\\IPython\\core\\magics\\execution.py:737\u001B[0m, in \u001B[0;36mExecutionMagics.run\u001B[1;34m(self, parameter_s, runner, file_finder)\u001B[0m\n\u001B[0;32m    735\u001B[0m     \u001B[38;5;28;01mwith\u001B[39;00m preserve_keys(\u001B[38;5;28mself\u001B[39m\u001B[38;5;241m.\u001B[39mshell\u001B[38;5;241m.\u001B[39muser_ns, \u001B[38;5;124m'\u001B[39m\u001B[38;5;124m__file__\u001B[39m\u001B[38;5;124m'\u001B[39m):\n\u001B[0;32m    736\u001B[0m         \u001B[38;5;28mself\u001B[39m\u001B[38;5;241m.\u001B[39mshell\u001B[38;5;241m.\u001B[39muser_ns[\u001B[38;5;124m'\u001B[39m\u001B[38;5;124m__file__\u001B[39m\u001B[38;5;124m'\u001B[39m] \u001B[38;5;241m=\u001B[39m filename\n\u001B[1;32m--> 737\u001B[0m         \u001B[38;5;28;43mself\u001B[39;49m\u001B[38;5;241;43m.\u001B[39;49m\u001B[43mshell\u001B[49m\u001B[38;5;241;43m.\u001B[39;49m\u001B[43msafe_execfile_ipy\u001B[49m\u001B[43m(\u001B[49m\u001B[43mfilename\u001B[49m\u001B[43m,\u001B[49m\u001B[43m \u001B[49m\u001B[43mraise_exceptions\u001B[49m\u001B[38;5;241;43m=\u001B[39;49m\u001B[38;5;28;43;01mTrue\u001B[39;49;00m\u001B[43m)\u001B[49m\n\u001B[0;32m    738\u001B[0m     \u001B[38;5;28;01mreturn\u001B[39;00m\n\u001B[0;32m    740\u001B[0m \u001B[38;5;66;03m# Control the response to exit() calls made by the script being run\u001B[39;00m\n",
      "File \u001B[1;32m~\\OneDrive\\FHNW\\intern_SimProg\\test_simprog\\venvFH\\lib\\site-packages\\IPython\\core\\interactiveshell.py:2954\u001B[0m, in \u001B[0;36mInteractiveShell.safe_execfile_ipy\u001B[1;34m(self, fname, shell_futures, raise_exceptions)\u001B[0m\n\u001B[0;32m   2952\u001B[0m result \u001B[38;5;241m=\u001B[39m \u001B[38;5;28mself\u001B[39m\u001B[38;5;241m.\u001B[39mrun_cell(cell, silent\u001B[38;5;241m=\u001B[39m\u001B[38;5;28;01mTrue\u001B[39;00m, shell_futures\u001B[38;5;241m=\u001B[39mshell_futures)\n\u001B[0;32m   2953\u001B[0m \u001B[38;5;28;01mif\u001B[39;00m raise_exceptions:\n\u001B[1;32m-> 2954\u001B[0m     \u001B[43mresult\u001B[49m\u001B[38;5;241;43m.\u001B[39;49m\u001B[43mraise_error\u001B[49m\u001B[43m(\u001B[49m\u001B[43m)\u001B[49m\n\u001B[0;32m   2955\u001B[0m \u001B[38;5;28;01melif\u001B[39;00m \u001B[38;5;129;01mnot\u001B[39;00m result\u001B[38;5;241m.\u001B[39msuccess:\n\u001B[0;32m   2956\u001B[0m     \u001B[38;5;28;01mbreak\u001B[39;00m\n",
      "File \u001B[1;32m~\\OneDrive\\FHNW\\intern_SimProg\\test_simprog\\venvFH\\lib\\site-packages\\IPython\\core\\interactiveshell.py:270\u001B[0m, in \u001B[0;36mExecutionResult.raise_error\u001B[1;34m(self)\u001B[0m\n\u001B[0;32m    268\u001B[0m     \u001B[38;5;28;01mraise\u001B[39;00m \u001B[38;5;28mself\u001B[39m\u001B[38;5;241m.\u001B[39merror_before_exec\n\u001B[0;32m    269\u001B[0m \u001B[38;5;28;01mif\u001B[39;00m \u001B[38;5;28mself\u001B[39m\u001B[38;5;241m.\u001B[39merror_in_exec \u001B[38;5;129;01mis\u001B[39;00m \u001B[38;5;129;01mnot\u001B[39;00m \u001B[38;5;28;01mNone\u001B[39;00m:\n\u001B[1;32m--> 270\u001B[0m     \u001B[38;5;28;01mraise\u001B[39;00m \u001B[38;5;28mself\u001B[39m\u001B[38;5;241m.\u001B[39merror_in_exec\n",
      "    \u001B[1;31m[... skipping hidden 1 frame]\u001B[0m\n",
      "File \u001B[1;32m~\\AppData\\Local\\Temp\\ipykernel_1420\\1613221736.py:5\u001B[0m\n\u001B[0;32m      3\u001B[0m LG_S \u001B[38;5;241m=\u001B[39m Analyse_V1\u001B[38;5;241m.\u001B[39manalyse_peaks(LG_S,Speicher,Faktor_Grenze,date_titles,title)\n\u001B[0;32m      4\u001B[0m \u001B[38;5;28mprint\u001B[39m(LG_S)\n\u001B[1;32m----> 5\u001B[0m LG_S, new_monthly_limit \u001B[38;5;241m=\u001B[39m Analyse_V1\u001B[38;5;241m.\u001B[39manalyse_peaks(LG_S,Speicher,Faktor_Grenze,date_titles,title)\n\u001B[0;32m      6\u001B[0m \u001B[38;5;66;03m#Set Dataframes\u001B[39;00m\n\u001B[0;32m      7\u001B[0m names_Bilanz_ELKW \u001B[38;5;241m=\u001B[39m [\u001B[38;5;124m\"\u001B[39m\u001B[38;5;124mSpeicherkapazität [kWh]\u001B[39m\u001B[38;5;124m\"\u001B[39m, \u001B[38;5;124m\"\u001B[39m\u001B[38;5;124mVerbrauch [kWh/km]\u001B[39m\u001B[38;5;124m\"\u001B[39m, \u001B[38;5;124m\"\u001B[39m\u001B[38;5;124mEnergiebezug Speicher [kWh/a]\u001B[39m\u001B[38;5;124m\"\u001B[39m, \u001B[38;5;124m\"\u001B[39m\u001B[38;5;124mNetzbezug [kWh/a]\u001B[39m\u001B[38;5;124m\"\u001B[39m, \u001B[38;5;124m\"\u001B[39m\u001B[38;5;124mEigenverbrauchserhöhung [kWh/a]\u001B[39m\u001B[38;5;124m\"\u001B[39m,\n\u001B[0;32m      8\u001B[0m                      \u001B[38;5;124m\"\u001B[39m\u001B[38;5;124mAuswärtsladen [kWh/a]\u001B[39m\u001B[38;5;124m\"\u001B[39m,  \u001B[38;5;124m\"\u001B[39m\u001B[38;5;124mMittagspause Verlängert um [min]\u001B[39m\u001B[38;5;124m\"\u001B[39m, \u001B[38;5;124m\"\u001B[39m\u001B[38;5;124mHäufigkeit Pause an Raststätte 30min laden\u001B[39m\u001B[38;5;124m\"\u001B[39m,\n\u001B[0;32m      9\u001B[0m                     \u001B[38;5;124m\"\u001B[39m\u001B[38;5;124mKosten Netzbezug [CHF/a]\u001B[39m\u001B[38;5;124m\"\u001B[39m,\u001B[38;5;124m\"\u001B[39m\u001B[38;5;124mKosten Laden Auswärts [CHF/a]\u001B[39m\u001B[38;5;124m\"\u001B[39m,\u001B[38;5;124m\"\u001B[39m\u001B[38;5;124mKosten Eigenverbauch [CHF/a]\u001B[39m\u001B[38;5;124m\"\u001B[39m,\n\u001B[0;32m     10\u001B[0m                      \u001B[38;5;124m\"\u001B[39m\u001B[38;5;124mSumme Energiekosten [CHF/a]\u001B[39m\u001B[38;5;124m\"\u001B[39m, \u001B[38;5;124m\"\u001B[39m\u001B[38;5;124mJahreskosten Inv + Unt [CHF/a]\u001B[39m\u001B[38;5;124m\"\u001B[39m, \u001B[38;5;124m\"\u001B[39m\u001B[38;5;124mJahreskosten Ladestation DC Inv + Unt\u001B[39m\u001B[38;5;124m\"\u001B[39m, \u001B[38;5;124m\"\u001B[39m\u001B[38;5;124mKosten total ELKW [CHF/a]\u001B[39m\u001B[38;5;124m\"\u001B[39m]\n",
      "\u001B[1;31mValueError\u001B[0m: too many values to unpack (expected 2)"
     ]
    }
   ],
   "source": [
    "import sys\n",
    "sys.path.insert(1, 'Module')\n",
    "import time\n",
    "\n",
    "\"##### Start programm with run #####\"\n",
    "Input_File = True\n",
    "\n",
    "start_timer = time.perf_counter()\n",
    "def print_start(name):\n",
    "    print(f'Start Simulation {name}')\n",
    "if Input_File:\n",
    "    from read_input_excel import *\n",
    "else:\n",
    "    from alternative_input import *\n",
    "\n",
    "if __name__ == '__main__':\n",
    "    print_start('Gesamtkonzept Strom')\n",
    "\n",
    "%run ./Module/Simulation_Komponenten.ipynb\n",
    "\n",
    "end_timer = time.perf_counter()\n",
    "running_time_min = round((end_timer-start_timer)/60,2)\n",
    "print(\"Programm fertig: Laufzeit = \"+str(running_time_min)+\" MIN\")\n",
    "quit()"
   ]
  }
 ],
 "metadata": {
  "kernelspec": {
   "display_name": "Python 3 (ipykernel)",
   "language": "python",
   "name": "python3"
  },
  "language_info": {
   "codemirror_mode": {
    "name": "ipython",
    "version": 3
   },
   "file_extension": ".py",
   "mimetype": "text/x-python",
   "name": "python",
   "nbconvert_exporter": "python",
   "pygments_lexer": "ipython3",
   "version": "3.10.8"
  }
 },
 "nbformat": 4,
 "nbformat_minor": 4
}
